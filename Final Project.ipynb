{
 "cells": [
  {
   "cell_type": "code",
   "execution_count": 2,
   "metadata": {},
   "outputs": [],
   "source": [
    "from IPython.core.interactiveshell import InteractiveShell\n",
    "InteractiveShell.ast_node_interactivity = \"all\"\n",
    "import numpy as np\n",
    "import pandas as pd\n",
    "from pybaseball import lahman\n",
    "import matplotlib.pyplot as plt\n",
    "import math\n",
    "%matplotlib inline\n",
    "import seaborn as sns\n",
    "import statsmodels.api as sm\n",
    "import statsmodels.formula.api as sm\n",
    "import statsmodels.formula.api as smf\n",
    "from scipy.special import expit\n",
    "from bs4 import BeautifulSoup\n",
    "from urllib.request import urlopen\n",
    "from pybaseball import statcast"
   ]
  },
  {
   "cell_type": "code",
   "execution_count": 3,
   "metadata": {},
   "outputs": [
    {
     "data": {
      "text/html": [
       "<div>\n",
       "<style scoped>\n",
       "    .dataframe tbody tr th:only-of-type {\n",
       "        vertical-align: middle;\n",
       "    }\n",
       "\n",
       "    .dataframe tbody tr th {\n",
       "        vertical-align: top;\n",
       "    }\n",
       "\n",
       "    .dataframe thead th {\n",
       "        text-align: right;\n",
       "    }\n",
       "</style>\n",
       "<table border=\"1\" class=\"dataframe\">\n",
       "  <thead>\n",
       "    <tr style=\"text-align: right;\">\n",
       "      <th></th>\n",
       "      <th>pitch_type</th>\n",
       "      <th>game_date</th>\n",
       "      <th>release_speed</th>\n",
       "      <th>release_pos_x</th>\n",
       "      <th>release_pos_z</th>\n",
       "      <th>player_name</th>\n",
       "      <th>batter</th>\n",
       "      <th>pitcher</th>\n",
       "      <th>events</th>\n",
       "      <th>description</th>\n",
       "      <th>...</th>\n",
       "      <th>fld_score</th>\n",
       "      <th>post_away_score</th>\n",
       "      <th>post_home_score</th>\n",
       "      <th>post_bat_score</th>\n",
       "      <th>post_fld_score</th>\n",
       "      <th>if_fielding_alignment</th>\n",
       "      <th>of_fielding_alignment</th>\n",
       "      <th>spin_axis</th>\n",
       "      <th>delta_home_win_exp</th>\n",
       "      <th>delta_run_exp</th>\n",
       "    </tr>\n",
       "  </thead>\n",
       "  <tbody>\n",
       "    <tr>\n",
       "      <th>0</th>\n",
       "      <td>SI</td>\n",
       "      <td>5/14/21</td>\n",
       "      <td>92.9</td>\n",
       "      <td>-0.80</td>\n",
       "      <td>5.90</td>\n",
       "      <td>Civale, Aaron</td>\n",
       "      <td>664059</td>\n",
       "      <td>650644</td>\n",
       "      <td>double</td>\n",
       "      <td>hit_into_play</td>\n",
       "      <td>...</td>\n",
       "      <td>1</td>\n",
       "      <td>1</td>\n",
       "      <td>4</td>\n",
       "      <td>4</td>\n",
       "      <td>1</td>\n",
       "      <td>Infield shift</td>\n",
       "      <td>Standard</td>\n",
       "      <td>214.0</td>\n",
       "      <td>0.006</td>\n",
       "      <td>0.204</td>\n",
       "    </tr>\n",
       "    <tr>\n",
       "      <th>1</th>\n",
       "      <td>FF</td>\n",
       "      <td>5/14/21</td>\n",
       "      <td>89.5</td>\n",
       "      <td>1.61</td>\n",
       "      <td>6.14</td>\n",
       "      <td>Kershaw, Clayton</td>\n",
       "      <td>547001</td>\n",
       "      <td>477132</td>\n",
       "      <td>field_out</td>\n",
       "      <td>hit_into_play</td>\n",
       "      <td>...</td>\n",
       "      <td>8</td>\n",
       "      <td>5</td>\n",
       "      <td>8</td>\n",
       "      <td>5</td>\n",
       "      <td>8</td>\n",
       "      <td>Standard</td>\n",
       "      <td>Standard</td>\n",
       "      <td>171.0</td>\n",
       "      <td>0.009</td>\n",
       "      <td>-0.145</td>\n",
       "    </tr>\n",
       "    <tr>\n",
       "      <th>2</th>\n",
       "      <td>SL</td>\n",
       "      <td>5/14/21</td>\n",
       "      <td>88.0</td>\n",
       "      <td>-1.66</td>\n",
       "      <td>5.96</td>\n",
       "      <td>Glasnow, Tyler</td>\n",
       "      <td>624424</td>\n",
       "      <td>607192</td>\n",
       "      <td>field_out</td>\n",
       "      <td>hit_into_play</td>\n",
       "      <td>...</td>\n",
       "      <td>0</td>\n",
       "      <td>2</td>\n",
       "      <td>0</td>\n",
       "      <td>2</td>\n",
       "      <td>0</td>\n",
       "      <td>Infield shift</td>\n",
       "      <td>Strategic</td>\n",
       "      <td>60.0</td>\n",
       "      <td>0.020</td>\n",
       "      <td>-0.323</td>\n",
       "    </tr>\n",
       "    <tr>\n",
       "      <th>3</th>\n",
       "      <td>FF</td>\n",
       "      <td>5/14/21</td>\n",
       "      <td>89.0</td>\n",
       "      <td>-1.03</td>\n",
       "      <td>6.46</td>\n",
       "      <td>Greinke, Zack</td>\n",
       "      <td>641432</td>\n",
       "      <td>425844</td>\n",
       "      <td>field_out</td>\n",
       "      <td>hit_into_play</td>\n",
       "      <td>...</td>\n",
       "      <td>10</td>\n",
       "      <td>3</td>\n",
       "      <td>10</td>\n",
       "      <td>3</td>\n",
       "      <td>10</td>\n",
       "      <td>Infield shift</td>\n",
       "      <td>Standard</td>\n",
       "      <td>194.0</td>\n",
       "      <td>0.000</td>\n",
       "      <td>-0.081</td>\n",
       "    </tr>\n",
       "    <tr>\n",
       "      <th>4</th>\n",
       "      <td>SI</td>\n",
       "      <td>5/14/21</td>\n",
       "      <td>91.9</td>\n",
       "      <td>-0.75</td>\n",
       "      <td>6.06</td>\n",
       "      <td>Civale, Aaron</td>\n",
       "      <td>620443</td>\n",
       "      <td>650644</td>\n",
       "      <td>sac_fly</td>\n",
       "      <td>hit_into_play</td>\n",
       "      <td>...</td>\n",
       "      <td>1</td>\n",
       "      <td>1</td>\n",
       "      <td>4</td>\n",
       "      <td>4</td>\n",
       "      <td>1</td>\n",
       "      <td>Strategic</td>\n",
       "      <td>Standard</td>\n",
       "      <td>205.0</td>\n",
       "      <td>0.017</td>\n",
       "      <td>-0.050</td>\n",
       "    </tr>\n",
       "    <tr>\n",
       "      <th>...</th>\n",
       "      <td>...</td>\n",
       "      <td>...</td>\n",
       "      <td>...</td>\n",
       "      <td>...</td>\n",
       "      <td>...</td>\n",
       "      <td>...</td>\n",
       "      <td>...</td>\n",
       "      <td>...</td>\n",
       "      <td>...</td>\n",
       "      <td>...</td>\n",
       "      <td>...</td>\n",
       "      <td>...</td>\n",
       "      <td>...</td>\n",
       "      <td>...</td>\n",
       "      <td>...</td>\n",
       "      <td>...</td>\n",
       "      <td>...</td>\n",
       "      <td>...</td>\n",
       "      <td>...</td>\n",
       "      <td>...</td>\n",
       "      <td>...</td>\n",
       "    </tr>\n",
       "    <tr>\n",
       "      <th>27680</th>\n",
       "      <td>SI</td>\n",
       "      <td>4/1/21</td>\n",
       "      <td>94.2</td>\n",
       "      <td>-1.56</td>\n",
       "      <td>5.45</td>\n",
       "      <td>Bassitt, Chris</td>\n",
       "      <td>514888</td>\n",
       "      <td>605135</td>\n",
       "      <td>field_out</td>\n",
       "      <td>hit_into_play</td>\n",
       "      <td>...</td>\n",
       "      <td>0</td>\n",
       "      <td>0</td>\n",
       "      <td>0</td>\n",
       "      <td>0</td>\n",
       "      <td>0</td>\n",
       "      <td>Infield shift</td>\n",
       "      <td>Standard</td>\n",
       "      <td>223.0</td>\n",
       "      <td>0.022</td>\n",
       "      <td>-0.225</td>\n",
       "    </tr>\n",
       "    <tr>\n",
       "      <th>27681</th>\n",
       "      <td>KC</td>\n",
       "      <td>4/1/21</td>\n",
       "      <td>84.1</td>\n",
       "      <td>-3.30</td>\n",
       "      <td>6.01</td>\n",
       "      <td>Duffey, Tyler</td>\n",
       "      <td>456715</td>\n",
       "      <td>608648</td>\n",
       "      <td>single</td>\n",
       "      <td>hit_into_play</td>\n",
       "      <td>...</td>\n",
       "      <td>3</td>\n",
       "      <td>3</td>\n",
       "      <td>1</td>\n",
       "      <td>1</td>\n",
       "      <td>3</td>\n",
       "      <td>Standard</td>\n",
       "      <td>Standard</td>\n",
       "      <td>29.0</td>\n",
       "      <td>0.088</td>\n",
       "      <td>0.830</td>\n",
       "    </tr>\n",
       "    <tr>\n",
       "      <th>27682</th>\n",
       "      <td>CU</td>\n",
       "      <td>4/1/21</td>\n",
       "      <td>82.4</td>\n",
       "      <td>-2.06</td>\n",
       "      <td>6.15</td>\n",
       "      <td>Green, Chad</td>\n",
       "      <td>666971</td>\n",
       "      <td>643338</td>\n",
       "      <td>grounded_into_double_play</td>\n",
       "      <td>hit_into_play</td>\n",
       "      <td>...</td>\n",
       "      <td>2</td>\n",
       "      <td>2</td>\n",
       "      <td>2</td>\n",
       "      <td>2</td>\n",
       "      <td>2</td>\n",
       "      <td>Standard</td>\n",
       "      <td>Standard</td>\n",
       "      <td>36.0</td>\n",
       "      <td>0.078</td>\n",
       "      <td>-0.332</td>\n",
       "    </tr>\n",
       "    <tr>\n",
       "      <th>27683</th>\n",
       "      <td>FC</td>\n",
       "      <td>4/1/21</td>\n",
       "      <td>93.5</td>\n",
       "      <td>-2.71</td>\n",
       "      <td>6.48</td>\n",
       "      <td>Melancon, Mark</td>\n",
       "      <td>572233</td>\n",
       "      <td>453343</td>\n",
       "      <td>field_out</td>\n",
       "      <td>hit_into_play</td>\n",
       "      <td>...</td>\n",
       "      <td>8</td>\n",
       "      <td>7</td>\n",
       "      <td>8</td>\n",
       "      <td>7</td>\n",
       "      <td>8</td>\n",
       "      <td>Standard</td>\n",
       "      <td>Standard</td>\n",
       "      <td>184.0</td>\n",
       "      <td>0.071</td>\n",
       "      <td>-0.225</td>\n",
       "    </tr>\n",
       "    <tr>\n",
       "      <th>27684</th>\n",
       "      <td>FF</td>\n",
       "      <td>4/1/21</td>\n",
       "      <td>81.9</td>\n",
       "      <td>-4.03</td>\n",
       "      <td>1.32</td>\n",
       "      <td>Rogers, Tyler</td>\n",
       "      <td>664238</td>\n",
       "      <td>643511</td>\n",
       "      <td>double</td>\n",
       "      <td>hit_into_play</td>\n",
       "      <td>...</td>\n",
       "      <td>6</td>\n",
       "      <td>6</td>\n",
       "      <td>5</td>\n",
       "      <td>5</td>\n",
       "      <td>6</td>\n",
       "      <td>Standard</td>\n",
       "      <td>Standard</td>\n",
       "      <td>328.0</td>\n",
       "      <td>0.314</td>\n",
       "      <td>1.859</td>\n",
       "    </tr>\n",
       "  </tbody>\n",
       "</table>\n",
       "<p>27685 rows × 92 columns</p>\n",
       "</div>"
      ],
      "text/plain": [
       "      pitch_type game_date  release_speed  release_pos_x  release_pos_z  \\\n",
       "0             SI   5/14/21           92.9          -0.80           5.90   \n",
       "1             FF   5/14/21           89.5           1.61           6.14   \n",
       "2             SL   5/14/21           88.0          -1.66           5.96   \n",
       "3             FF   5/14/21           89.0          -1.03           6.46   \n",
       "4             SI   5/14/21           91.9          -0.75           6.06   \n",
       "...          ...       ...            ...            ...            ...   \n",
       "27680         SI    4/1/21           94.2          -1.56           5.45   \n",
       "27681         KC    4/1/21           84.1          -3.30           6.01   \n",
       "27682         CU    4/1/21           82.4          -2.06           6.15   \n",
       "27683         FC    4/1/21           93.5          -2.71           6.48   \n",
       "27684         FF    4/1/21           81.9          -4.03           1.32   \n",
       "\n",
       "            player_name  batter  pitcher                     events  \\\n",
       "0         Civale, Aaron  664059   650644                     double   \n",
       "1      Kershaw, Clayton  547001   477132                  field_out   \n",
       "2        Glasnow, Tyler  624424   607192                  field_out   \n",
       "3         Greinke, Zack  641432   425844                  field_out   \n",
       "4         Civale, Aaron  620443   650644                    sac_fly   \n",
       "...                 ...     ...      ...                        ...   \n",
       "27680    Bassitt, Chris  514888   605135                  field_out   \n",
       "27681     Duffey, Tyler  456715   608648                     single   \n",
       "27682       Green, Chad  666971   643338  grounded_into_double_play   \n",
       "27683    Melancon, Mark  572233   453343                  field_out   \n",
       "27684     Rogers, Tyler  664238   643511                     double   \n",
       "\n",
       "         description  ...  fld_score  post_away_score  post_home_score  \\\n",
       "0      hit_into_play  ...          1                1                4   \n",
       "1      hit_into_play  ...          8                5                8   \n",
       "2      hit_into_play  ...          0                2                0   \n",
       "3      hit_into_play  ...         10                3               10   \n",
       "4      hit_into_play  ...          1                1                4   \n",
       "...              ...  ...        ...              ...              ...   \n",
       "27680  hit_into_play  ...          0                0                0   \n",
       "27681  hit_into_play  ...          3                3                1   \n",
       "27682  hit_into_play  ...          2                2                2   \n",
       "27683  hit_into_play  ...          8                7                8   \n",
       "27684  hit_into_play  ...          6                6                5   \n",
       "\n",
       "       post_bat_score  post_fld_score if_fielding_alignment  \\\n",
       "0                   4               1         Infield shift   \n",
       "1                   5               8              Standard   \n",
       "2                   2               0         Infield shift   \n",
       "3                   3              10         Infield shift   \n",
       "4                   4               1             Strategic   \n",
       "...               ...             ...                   ...   \n",
       "27680               0               0         Infield shift   \n",
       "27681               1               3              Standard   \n",
       "27682               2               2              Standard   \n",
       "27683               7               8              Standard   \n",
       "27684               5               6              Standard   \n",
       "\n",
       "      of_fielding_alignment spin_axis delta_home_win_exp delta_run_exp  \n",
       "0                  Standard     214.0              0.006         0.204  \n",
       "1                  Standard     171.0              0.009        -0.145  \n",
       "2                 Strategic      60.0              0.020        -0.323  \n",
       "3                  Standard     194.0              0.000        -0.081  \n",
       "4                  Standard     205.0              0.017        -0.050  \n",
       "...                     ...       ...                ...           ...  \n",
       "27680              Standard     223.0              0.022        -0.225  \n",
       "27681              Standard      29.0              0.088         0.830  \n",
       "27682              Standard      36.0              0.078        -0.332  \n",
       "27683              Standard     184.0              0.071        -0.225  \n",
       "27684              Standard     328.0              0.314         1.859  \n",
       "\n",
       "[27685 rows x 92 columns]"
      ]
     },
     "execution_count": 3,
     "metadata": {},
     "output_type": "execute_result"
    }
   ],
   "source": [
    "data = pd.read_csv(\"data/finalprojectdata.csv\")\n",
    "data"
   ]
  },
  {
   "cell_type": "code",
   "execution_count": 13,
   "metadata": {},
   "outputs": [
    {
     "data": {
      "text/plain": [
       "0         0\n",
       "1         0\n",
       "2         0\n",
       "3         0\n",
       "4         0\n",
       "         ..\n",
       "175147    0\n",
       "175148    0\n",
       "175149    0\n",
       "175150    0\n",
       "175151    0\n",
       "Name: home_run, Length: 175152, dtype: uint8"
      ]
     },
     "execution_count": 13,
     "metadata": {},
     "output_type": "execute_result"
    }
   ],
   "source": [
    "df = pd.get_dummies(data['events'])\n",
    "df[\"home_run\"]\n",
    "data[\"home_run\"] = df[\"home_run\"]"
   ]
  },
  {
   "cell_type": "code",
   "execution_count": 14,
   "metadata": {},
   "outputs": [
    {
     "data": {
      "text/plain": [
       "0         17.666083\n",
       "1         26.089251\n",
       "2               NaN\n",
       "3               NaN\n",
       "4               NaN\n",
       "            ...    \n",
       "175147          NaN\n",
       "175148          NaN\n",
       "175149          NaN\n",
       "175150          NaN\n",
       "175151          NaN\n",
       "Name: SprayAngle, Length: 175152, dtype: float64"
      ]
     },
     "execution_count": 14,
     "metadata": {},
     "output_type": "execute_result"
    }
   ],
   "source": [
    "data[\"SprayAngle1\"] = ((data[\"hc_x\"]-125.42)/(198.27-data[\"hc_y\"]))\n",
    "data[\"SprayAngle2\"] = np.arctan(data[\"SprayAngle1\"])\n",
    "data[\"SprayAngle\"] = data[\"SprayAngle2\"]*180/3.1415926535*.75\n",
    "data[\"SprayAngle\"]"
   ]
  },
  {
   "cell_type": "code",
   "execution_count": 15,
   "metadata": {},
   "outputs": [
    {
     "name": "stdout",
     "output_type": "stream",
     "text": [
      "Optimization terminated successfully.\n",
      "         Current function value: 0.106333\n",
      "         Iterations 11\n"
     ]
    },
    {
     "data": {
      "text/html": [
       "<table class=\"simpletable\">\n",
       "<caption>Logit Regression Results</caption>\n",
       "<tr>\n",
       "  <th>Dep. Variable:</th>       <td>home_run</td>     <th>  No. Observations:  </th>  <td> 29232</td> \n",
       "</tr>\n",
       "<tr>\n",
       "  <th>Model:</th>                 <td>Logit</td>      <th>  Df Residuals:      </th>  <td> 29228</td> \n",
       "</tr>\n",
       "<tr>\n",
       "  <th>Method:</th>                 <td>MLE</td>       <th>  Df Model:          </th>  <td>     3</td> \n",
       "</tr>\n",
       "<tr>\n",
       "  <th>Date:</th>            <td>Tue, 18 May 2021</td> <th>  Pseudo R-squ.:     </th>  <td>0.4305</td> \n",
       "</tr>\n",
       "<tr>\n",
       "  <th>Time:</th>                <td>21:08:23</td>     <th>  Log-Likelihood:    </th> <td> -3108.3</td>\n",
       "</tr>\n",
       "<tr>\n",
       "  <th>converged:</th>             <td>True</td>       <th>  LL-Null:           </th> <td> -5457.7</td>\n",
       "</tr>\n",
       "<tr>\n",
       "  <th>Covariance Type:</th>     <td>nonrobust</td>    <th>  LLR p-value:       </th>  <td> 0.000</td> \n",
       "</tr>\n",
       "</table>\n",
       "<table class=\"simpletable\">\n",
       "<tr>\n",
       "        <td></td>          <th>coef</th>     <th>std err</th>      <th>z</th>      <th>P>|z|</th>  <th>[0.025</th>    <th>0.975]</th>  \n",
       "</tr>\n",
       "<tr>\n",
       "  <th>Intercept</th>    <td>  -37.2034</td> <td>    0.845</td> <td>  -44.031</td> <td> 0.000</td> <td>  -38.859</td> <td>  -35.547</td>\n",
       "</tr>\n",
       "<tr>\n",
       "  <th>SprayAngle</th>   <td> 7.673e-05</td> <td>    0.002</td> <td>    0.047</td> <td> 0.963</td> <td>   -0.003</td> <td>    0.003</td>\n",
       "</tr>\n",
       "<tr>\n",
       "  <th>launch_speed</th> <td>    0.3216</td> <td>    0.008</td> <td>   41.962</td> <td> 0.000</td> <td>    0.307</td> <td>    0.337</td>\n",
       "</tr>\n",
       "<tr>\n",
       "  <th>launch_angle</th> <td>    0.0865</td> <td>    0.003</td> <td>   34.189</td> <td> 0.000</td> <td>    0.082</td> <td>    0.091</td>\n",
       "</tr>\n",
       "</table><br/><br/>Possibly complete quasi-separation: A fraction 0.32 of observations can be<br/>perfectly predicted. This might indicate that there is complete<br/>quasi-separation. In this case some parameters will not be identified."
      ],
      "text/plain": [
       "<class 'statsmodels.iolib.summary.Summary'>\n",
       "\"\"\"\n",
       "                           Logit Regression Results                           \n",
       "==============================================================================\n",
       "Dep. Variable:               home_run   No. Observations:                29232\n",
       "Model:                          Logit   Df Residuals:                    29228\n",
       "Method:                           MLE   Df Model:                            3\n",
       "Date:                Tue, 18 May 2021   Pseudo R-squ.:                  0.4305\n",
       "Time:                        21:08:23   Log-Likelihood:                -3108.3\n",
       "converged:                       True   LL-Null:                       -5457.7\n",
       "Covariance Type:            nonrobust   LLR p-value:                     0.000\n",
       "================================================================================\n",
       "                   coef    std err          z      P>|z|      [0.025      0.975]\n",
       "--------------------------------------------------------------------------------\n",
       "Intercept      -37.2034      0.845    -44.031      0.000     -38.859     -35.547\n",
       "SprayAngle    7.673e-05      0.002      0.047      0.963      -0.003       0.003\n",
       "launch_speed     0.3216      0.008     41.962      0.000       0.307       0.337\n",
       "launch_angle     0.0865      0.003     34.189      0.000       0.082       0.091\n",
       "================================================================================\n",
       "\n",
       "Possibly complete quasi-separation: A fraction 0.32 of observations can be\n",
       "perfectly predicted. This might indicate that there is complete\n",
       "quasi-separation. In this case some parameters will not be identified.\n",
       "\"\"\""
      ]
     },
     "execution_count": 15,
     "metadata": {},
     "output_type": "execute_result"
    }
   ],
   "source": [
    "hr_prediction_formula = \"home_run ~ SprayAngle + launch_speed + launch_angle\"\n",
    "hr_prediction_model = smf.logit(formula=hr_prediction_formula,\n",
    "                               data=data).fit()\n",
    "hr_prediction_model.summary()"
   ]
  },
  {
   "cell_type": "code",
   "execution_count": 6,
   "metadata": {},
   "outputs": [
    {
     "name": "stderr",
     "output_type": "stream",
     "text": [
      "/opt/anaconda3/lib/python3.8/site-packages/seaborn/distributions.py:2551: FutureWarning: `distplot` is a deprecated function and will be removed in a future version. Please adapt your code to use either `displot` (a figure-level function with similar flexibility) or `histplot` (an axes-level function for histograms).\n",
      "  warnings.warn(msg, FutureWarning)\n"
     ]
    },
    {
     "data": {
      "text/plain": [
       "<AxesSubplot:xlabel='launch_angle'>"
      ]
     },
     "execution_count": 6,
     "metadata": {},
     "output_type": "execute_result"
    },
    {
     "data": {
      "text/plain": [
       "Text(0.5, 1.0, 'Histogram of Launch Angle and Number of Home Runs')"
      ]
     },
     "execution_count": 6,
     "metadata": {},
     "output_type": "execute_result"
    },
    {
     "data": {
      "text/plain": [
       "Text(0.5, 0, 'Launch Angle')"
      ]
     },
     "execution_count": 6,
     "metadata": {},
     "output_type": "execute_result"
    },
    {
     "data": {
      "text/plain": [
       "Text(0, 0.5, 'Home Runs')"
      ]
     },
     "execution_count": 6,
     "metadata": {},
     "output_type": "execute_result"
    },
    {
     "data": {
      "text/plain": [
       "<AxesSubplot:title={'center':'Histogram of Launch Angle and Number of Home Runs'}, xlabel='SprayAngle', ylabel='Home Runs'>"
      ]
     },
     "execution_count": 6,
     "metadata": {},
     "output_type": "execute_result"
    },
    {
     "data": {
      "text/plain": [
       "Text(0.5, 1.0, 'Histogram of Spray Angle and Number of Home Runs')"
      ]
     },
     "execution_count": 6,
     "metadata": {},
     "output_type": "execute_result"
    },
    {
     "data": {
      "text/plain": [
       "Text(0.5, 0, 'Spray Angle')"
      ]
     },
     "execution_count": 6,
     "metadata": {},
     "output_type": "execute_result"
    },
    {
     "data": {
      "text/plain": [
       "Text(0, 0.5, 'Home Runs')"
      ]
     },
     "execution_count": 6,
     "metadata": {},
     "output_type": "execute_result"
    },
    {
     "data": {
      "text/plain": [
       "<AxesSubplot:title={'center':'Histogram of Spray Angle and Number of Home Runs'}, xlabel='launch_speed', ylabel='Home Runs'>"
      ]
     },
     "execution_count": 6,
     "metadata": {},
     "output_type": "execute_result"
    },
    {
     "data": {
      "text/plain": [
       "Text(0.5, 1.0, 'Histogram of Launch Speed and Number of Home Runs')"
      ]
     },
     "execution_count": 6,
     "metadata": {},
     "output_type": "execute_result"
    },
    {
     "data": {
      "text/plain": [
       "Text(0.5, 0, 'Launch Speed')"
      ]
     },
     "execution_count": 6,
     "metadata": {},
     "output_type": "execute_result"
    },
    {
     "data": {
      "text/plain": [
       "Text(0, 0.5, 'Home Runs')"
      ]
     },
     "execution_count": 6,
     "metadata": {},
     "output_type": "execute_result"
    },
    {
     "data": {
      "image/png": "[encoded data removed]",
      "text/plain": [
       "<Figure size 432x288 with 1 Axes>"
      ]
     },
     "metadata": {
      "needs_background": "light"
     },
     "output_type": "display_data"
    },
    {
     "data": {
      "image/png": "[encoded data removed]",
      "text/plain": [
       "<Figure size 432x288 with 1 Axes>"
      ]
     },
     "metadata": {},
     "output_type": "display_data"
    },
    {
     "data": {
      "image/png": "[encoded data removed]",
      "text/plain": [
       "<Figure size 432x288 with 1 Axes>"
      ]
     },
     "metadata": {},
     "output_type": "display_data"
    }
   ],
   "source": [
    "datahomeruns = data[(data.home_run == 1)]\n",
    "sns.distplot(datahomeruns['launch_angle'], hist=True, kde=False,\n",
    "             bins=int(180/12), color = 'blue',\n",
    "             hist_kws={'edgecolor':'black'})\n",
    "plt.title('Histogram of Launch Angle and Number of Home Runs')\n",
    "plt.xlabel('Launch Angle')\n",
    "plt.ylabel('Home Runs')\n",
    "\n",
    "sns.distplot(datahomeruns['SprayAngle'], hist=True, kde=False,\n",
    "             bins=int(180/12), color = 'blue',\n",
    "             hist_kws={'edgecolor':'black'})\n",
    "plt.title('Histogram of Spray Angle and Number of Home Runs')\n",
    "plt.xlabel('Spray Angle')\n",
    "plt.ylabel('Home Runs')\n",
    "\n",
    "sns.distplot(datahomeruns['launch_speed'], hist=True, kde=False,\n",
    "             bins=int(180/12), color = 'blue',\n",
    "             hist_kws={'edgecolor':'black'})\n",
    "plt.title('Histogram of Launch Speed and Number of Home Runs')\n",
    "plt.xlabel('Launch Speed')\n",
    "plt.ylabel('Home Runs')\n",
    "\n",
    "sns.set(style=\"darkgrid\")\n",
    "df = sns.load_dataset('iris')\n",
    "\n",
    "fig = sns.kdeplot(data['launch_angle'], shade=True, color=\"r\")\n",
    "fig = sns.kdeplot(datahomeruns['launch_angle'], shade=True, color=\"b\")\n",
    "plt.show()\n",
    "\n",
    "sns.set(style=\"darkgrid\")\n",
    "df = sns.load_dataset('iris')\n",
    "\n",
    "fig = sns.kdeplot(data['SprayAngle'], shade=True, color=\"r\")\n",
    "fig = sns.kdeplot(datahomeruns['SprayAngle'], shade=True, color=\"b\")\n",
    "plt.show()\n",
    "\n",
    "sns.set(style=\"darkgrid\")\n",
    "df = sns.load_dataset('iris')\n",
    "\n",
    "fig = sns.kdeplot(data['launch_speed'], shade=True, color=\"r\")\n",
    "fig = sns.kdeplot(datahomeruns['launch_speed'], shade=True, color=\"b\")\n",
    "plt.show()"
   ]
  }
 ],
 "metadata": {
  "kernelspec": {
   "display_name": "Python 3",
   "language": "python",
   "name": "python3"
  },
  "language_info": {
   "codemirror_mode": {
    "name": "ipython",
    "version": 3
   },
   "file_extension": ".py",
   "mimetype": "text/x-python",
   "name": "python",
   "nbconvert_exporter": "python",
   "pygments_lexer": "ipython3",
   "version": "3.8.5"
  }
 },
 "nbformat": 4,
 "nbformat_minor": 4
}
